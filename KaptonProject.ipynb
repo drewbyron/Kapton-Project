{
 "cells": [
  {
   "cell_type": "code",
   "execution_count": 16,
   "metadata": {},
   "outputs": [
    {
     "name": "stdout",
     "output_type": "stream",
     "text": [
      "effect order =  1.3253918185185398e-08 at temp 296 K\n"
     ]
    }
   ],
   "source": [
    "# Plotting some stuff for the Kapton Write-up\n",
    "\n",
    "%matplotlib inline  \n",
    "\n",
    "import numpy as np\n",
    "import matplotlib.pyplot as plt\n",
    "import math\n",
    "\n",
    "# A script to find:\n",
    "#the pressure in the volume as a function of permeability K  \n",
    "\n",
    "\n",
    "# --------------------Constants--------------------#\n",
    "pi = math.pi\n",
    "k = 1.38 * 10**-23 # m**2 kg s**-2 K**-1\n",
    "\n",
    "# --------------------Parameters--------------------#\n",
    "r = .578 #cm \n",
    "T = 120 #K \n",
    "A = 2*pi*r**2 # cm**2\n",
    "V = 10*pi*r**2*10**-6 # m**3 (10cm long decay vol)\n",
    "Lambda = 1 # s**-1 (1/ lifetime, note: I am assuming tau = 1s)\n",
    "l = 1.27 #mm, 50 mil.\n",
    "\n",
    "# --------------------independent variable K--------------------#\n",
    "\n",
    "def K_temp(temp):  # Pulling this function from A Eggenberger et al eq 7 \n",
    "    K_temp = 1210*np.exp(-15.06*10**6/(8314*temp))*10**-10\n",
    "    return K_temp\n",
    "\n",
    "temp = 296  # Can change this as desired.\n",
    "K_true = K_temp(temp)\n",
    "frac = (k*T*K_true*2.54*10**19*A)/(133*V*Lambda*l)\n",
    "f_true = (1+frac)**-1\n",
    "\n",
    "print('effect order (f in whitepaper) = ', 1-f_true, 'at temp', temp, 'K')  # So it is basically not going to be a problem at all. \n"
   ]
  },
  {
   "cell_type": "code",
   "execution_count": null,
   "metadata": {},
   "outputs": [],
   "source": []
  },
  {
   "cell_type": "code",
   "execution_count": null,
   "metadata": {},
   "outputs": [],
   "source": []
  }
 ],
 "metadata": {
  "kernelspec": {
   "display_name": "Python 3",
   "language": "python",
   "name": "python3"
  },
  "language_info": {
   "codemirror_mode": {
    "name": "ipython",
    "version": 3
   },
   "file_extension": ".py",
   "mimetype": "text/x-python",
   "name": "python",
   "nbconvert_exporter": "python",
   "pygments_lexer": "ipython3",
   "version": "3.7.3"
  }
 },
 "nbformat": 4,
 "nbformat_minor": 2
}
